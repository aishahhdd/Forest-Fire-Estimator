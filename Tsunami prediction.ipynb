{
 "cells": [
  {
   "cell_type": "code",
   "execution_count": 64,
   "id": "d4c228d0-7e03-4009-af65-61127619b4c2",
   "metadata": {},
   "outputs": [],
   "source": [
    "import numpy as np\n",
    "import pandas as pd \n",
    "import matplotlib.pyplot as plt"
   ]
  },
  {
   "cell_type": "code",
   "execution_count": 65,
   "id": "088483ab-2f3f-4ab6-9ca0-833c26d9f8ec",
   "metadata": {},
   "outputs": [],
   "source": [
    "data = pd.read_csv(\"tsunami_internadata.csv\")"
   ]
  },
  {
   "cell_type": "code",
   "execution_count": 66,
   "id": "a2820be2-6f02-4ea8-90d0-93fd5a0dd9e8",
   "metadata": {},
   "outputs": [
    {
     "data": {
      "text/html": [
       "<div>\n",
       "<style scoped>\n",
       "    .dataframe tbody tr th:only-of-type {\n",
       "        vertical-align: middle;\n",
       "    }\n",
       "\n",
       "    .dataframe tbody tr th {\n",
       "        vertical-align: top;\n",
       "    }\n",
       "\n",
       "    .dataframe thead th {\n",
       "        text-align: right;\n",
       "    }\n",
       "</style>\n",
       "<table border=\"1\" class=\"dataframe\">\n",
       "  <thead>\n",
       "    <tr style=\"text-align: right;\">\n",
       "      <th></th>\n",
       "      <th>Search Parameters</th>\n",
       "      <th>Year</th>\n",
       "      <th>Mo</th>\n",
       "      <th>Dy</th>\n",
       "      <th>Hr</th>\n",
       "      <th>Mn</th>\n",
       "      <th>Sec</th>\n",
       "      <th>Tsunami Event Validity</th>\n",
       "      <th>Tsunami Cause Code</th>\n",
       "      <th>Earthquake Magnitude</th>\n",
       "      <th>...</th>\n",
       "      <th>Total Missing</th>\n",
       "      <th>Total Missing Description</th>\n",
       "      <th>Total Injuries</th>\n",
       "      <th>Total Injuries Description</th>\n",
       "      <th>Total Damage ($Mil)</th>\n",
       "      <th>Total Damage Description</th>\n",
       "      <th>Total Houses Destroyed</th>\n",
       "      <th>Total Houses Destroyed Description</th>\n",
       "      <th>Total Houses Damaged</th>\n",
       "      <th>Total Houses Damaged Description</th>\n",
       "    </tr>\n",
       "  </thead>\n",
       "  <tbody>\n",
       "    <tr>\n",
       "      <th>0</th>\n",
       "      <td>[]</td>\n",
       "      <td>NaN</td>\n",
       "      <td>NaN</td>\n",
       "      <td>NaN</td>\n",
       "      <td>NaN</td>\n",
       "      <td>NaN</td>\n",
       "      <td>NaN</td>\n",
       "      <td>NaN</td>\n",
       "      <td>NaN</td>\n",
       "      <td>NaN</td>\n",
       "      <td>...</td>\n",
       "      <td>NaN</td>\n",
       "      <td>NaN</td>\n",
       "      <td>NaN</td>\n",
       "      <td>NaN</td>\n",
       "      <td>NaN</td>\n",
       "      <td>NaN</td>\n",
       "      <td>NaN</td>\n",
       "      <td>NaN</td>\n",
       "      <td>NaN</td>\n",
       "      <td>NaN</td>\n",
       "    </tr>\n",
       "    <tr>\n",
       "      <th>1</th>\n",
       "      <td>NaN</td>\n",
       "      <td>-2000.0</td>\n",
       "      <td>NaN</td>\n",
       "      <td>NaN</td>\n",
       "      <td>NaN</td>\n",
       "      <td>NaN</td>\n",
       "      <td>NaN</td>\n",
       "      <td>1.0</td>\n",
       "      <td>1.0</td>\n",
       "      <td>NaN</td>\n",
       "      <td>...</td>\n",
       "      <td>NaN</td>\n",
       "      <td>NaN</td>\n",
       "      <td>NaN</td>\n",
       "      <td>NaN</td>\n",
       "      <td>NaN</td>\n",
       "      <td>4.0</td>\n",
       "      <td>NaN</td>\n",
       "      <td>NaN</td>\n",
       "      <td>NaN</td>\n",
       "      <td>NaN</td>\n",
       "    </tr>\n",
       "    <tr>\n",
       "      <th>2</th>\n",
       "      <td>NaN</td>\n",
       "      <td>-1610.0</td>\n",
       "      <td>NaN</td>\n",
       "      <td>NaN</td>\n",
       "      <td>NaN</td>\n",
       "      <td>NaN</td>\n",
       "      <td>NaN</td>\n",
       "      <td>4.0</td>\n",
       "      <td>6.0</td>\n",
       "      <td>NaN</td>\n",
       "      <td>...</td>\n",
       "      <td>NaN</td>\n",
       "      <td>NaN</td>\n",
       "      <td>NaN</td>\n",
       "      <td>NaN</td>\n",
       "      <td>NaN</td>\n",
       "      <td>3.0</td>\n",
       "      <td>NaN</td>\n",
       "      <td>NaN</td>\n",
       "      <td>NaN</td>\n",
       "      <td>NaN</td>\n",
       "    </tr>\n",
       "    <tr>\n",
       "      <th>3</th>\n",
       "      <td>NaN</td>\n",
       "      <td>-1365.0</td>\n",
       "      <td>NaN</td>\n",
       "      <td>NaN</td>\n",
       "      <td>NaN</td>\n",
       "      <td>NaN</td>\n",
       "      <td>NaN</td>\n",
       "      <td>1.0</td>\n",
       "      <td>1.0</td>\n",
       "      <td>NaN</td>\n",
       "      <td>...</td>\n",
       "      <td>NaN</td>\n",
       "      <td>NaN</td>\n",
       "      <td>NaN</td>\n",
       "      <td>NaN</td>\n",
       "      <td>NaN</td>\n",
       "      <td>3.0</td>\n",
       "      <td>NaN</td>\n",
       "      <td>NaN</td>\n",
       "      <td>NaN</td>\n",
       "      <td>NaN</td>\n",
       "    </tr>\n",
       "    <tr>\n",
       "      <th>4</th>\n",
       "      <td>NaN</td>\n",
       "      <td>-1300.0</td>\n",
       "      <td>NaN</td>\n",
       "      <td>NaN</td>\n",
       "      <td>NaN</td>\n",
       "      <td>NaN</td>\n",
       "      <td>NaN</td>\n",
       "      <td>2.0</td>\n",
       "      <td>0.0</td>\n",
       "      <td>6.0</td>\n",
       "      <td>...</td>\n",
       "      <td>NaN</td>\n",
       "      <td>NaN</td>\n",
       "      <td>NaN</td>\n",
       "      <td>NaN</td>\n",
       "      <td>NaN</td>\n",
       "      <td>NaN</td>\n",
       "      <td>NaN</td>\n",
       "      <td>NaN</td>\n",
       "      <td>NaN</td>\n",
       "      <td>NaN</td>\n",
       "    </tr>\n",
       "    <tr>\n",
       "      <th>...</th>\n",
       "      <td>...</td>\n",
       "      <td>...</td>\n",
       "      <td>...</td>\n",
       "      <td>...</td>\n",
       "      <td>...</td>\n",
       "      <td>...</td>\n",
       "      <td>...</td>\n",
       "      <td>...</td>\n",
       "      <td>...</td>\n",
       "      <td>...</td>\n",
       "      <td>...</td>\n",
       "      <td>...</td>\n",
       "      <td>...</td>\n",
       "      <td>...</td>\n",
       "      <td>...</td>\n",
       "      <td>...</td>\n",
       "      <td>...</td>\n",
       "      <td>...</td>\n",
       "      <td>...</td>\n",
       "      <td>...</td>\n",
       "      <td>...</td>\n",
       "    </tr>\n",
       "    <tr>\n",
       "      <th>2820</th>\n",
       "      <td>NaN</td>\n",
       "      <td>2023.0</td>\n",
       "      <td>4.0</td>\n",
       "      <td>24.0</td>\n",
       "      <td>0.0</td>\n",
       "      <td>41.0</td>\n",
       "      <td>55.0</td>\n",
       "      <td>4.0</td>\n",
       "      <td>1.0</td>\n",
       "      <td>7.1</td>\n",
       "      <td>...</td>\n",
       "      <td>NaN</td>\n",
       "      <td>NaN</td>\n",
       "      <td>NaN</td>\n",
       "      <td>NaN</td>\n",
       "      <td>NaN</td>\n",
       "      <td>NaN</td>\n",
       "      <td>NaN</td>\n",
       "      <td>NaN</td>\n",
       "      <td>NaN</td>\n",
       "      <td>NaN</td>\n",
       "    </tr>\n",
       "    <tr>\n",
       "      <th>2821</th>\n",
       "      <td>NaN</td>\n",
       "      <td>2023.0</td>\n",
       "      <td>4.0</td>\n",
       "      <td>24.0</td>\n",
       "      <td>20.0</td>\n",
       "      <td>0.0</td>\n",
       "      <td>57.0</td>\n",
       "      <td>4.0</td>\n",
       "      <td>1.0</td>\n",
       "      <td>7.1</td>\n",
       "      <td>...</td>\n",
       "      <td>NaN</td>\n",
       "      <td>NaN</td>\n",
       "      <td>NaN</td>\n",
       "      <td>NaN</td>\n",
       "      <td>NaN</td>\n",
       "      <td>NaN</td>\n",
       "      <td>NaN</td>\n",
       "      <td>NaN</td>\n",
       "      <td>NaN</td>\n",
       "      <td>NaN</td>\n",
       "    </tr>\n",
       "    <tr>\n",
       "      <th>2822</th>\n",
       "      <td>NaN</td>\n",
       "      <td>2023.0</td>\n",
       "      <td>5.0</td>\n",
       "      <td>5.0</td>\n",
       "      <td>5.0</td>\n",
       "      <td>42.0</td>\n",
       "      <td>4.0</td>\n",
       "      <td>4.0</td>\n",
       "      <td>1.0</td>\n",
       "      <td>6.2</td>\n",
       "      <td>...</td>\n",
       "      <td>NaN</td>\n",
       "      <td>NaN</td>\n",
       "      <td>34.0</td>\n",
       "      <td>1.0</td>\n",
       "      <td>NaN</td>\n",
       "      <td>2.0</td>\n",
       "      <td>3.0</td>\n",
       "      <td>1.0</td>\n",
       "      <td>351.0</td>\n",
       "      <td>3.0</td>\n",
       "    </tr>\n",
       "    <tr>\n",
       "      <th>2823</th>\n",
       "      <td>NaN</td>\n",
       "      <td>2023.0</td>\n",
       "      <td>5.0</td>\n",
       "      <td>19.0</td>\n",
       "      <td>2.0</td>\n",
       "      <td>57.0</td>\n",
       "      <td>6.0</td>\n",
       "      <td>4.0</td>\n",
       "      <td>1.0</td>\n",
       "      <td>7.7</td>\n",
       "      <td>...</td>\n",
       "      <td>NaN</td>\n",
       "      <td>NaN</td>\n",
       "      <td>NaN</td>\n",
       "      <td>NaN</td>\n",
       "      <td>NaN</td>\n",
       "      <td>NaN</td>\n",
       "      <td>NaN</td>\n",
       "      <td>NaN</td>\n",
       "      <td>NaN</td>\n",
       "      <td>NaN</td>\n",
       "    </tr>\n",
       "    <tr>\n",
       "      <th>2824</th>\n",
       "      <td>NaN</td>\n",
       "      <td>2023.0</td>\n",
       "      <td>5.0</td>\n",
       "      <td>20.0</td>\n",
       "      <td>1.0</td>\n",
       "      <td>51.0</td>\n",
       "      <td>1.0</td>\n",
       "      <td>4.0</td>\n",
       "      <td>1.0</td>\n",
       "      <td>7.1</td>\n",
       "      <td>...</td>\n",
       "      <td>NaN</td>\n",
       "      <td>NaN</td>\n",
       "      <td>NaN</td>\n",
       "      <td>NaN</td>\n",
       "      <td>NaN</td>\n",
       "      <td>NaN</td>\n",
       "      <td>NaN</td>\n",
       "      <td>NaN</td>\n",
       "      <td>NaN</td>\n",
       "      <td>NaN</td>\n",
       "    </tr>\n",
       "  </tbody>\n",
       "</table>\n",
       "<p>2825 rows × 46 columns</p>\n",
       "</div>"
      ],
      "text/plain": [
       "     Search Parameters    Year   Mo    Dy    Hr    Mn   Sec  \\\n",
       "0                   []     NaN  NaN   NaN   NaN   NaN   NaN   \n",
       "1                  NaN -2000.0  NaN   NaN   NaN   NaN   NaN   \n",
       "2                  NaN -1610.0  NaN   NaN   NaN   NaN   NaN   \n",
       "3                  NaN -1365.0  NaN   NaN   NaN   NaN   NaN   \n",
       "4                  NaN -1300.0  NaN   NaN   NaN   NaN   NaN   \n",
       "...                ...     ...  ...   ...   ...   ...   ...   \n",
       "2820               NaN  2023.0  4.0  24.0   0.0  41.0  55.0   \n",
       "2821               NaN  2023.0  4.0  24.0  20.0   0.0  57.0   \n",
       "2822               NaN  2023.0  5.0   5.0   5.0  42.0   4.0   \n",
       "2823               NaN  2023.0  5.0  19.0   2.0  57.0   6.0   \n",
       "2824               NaN  2023.0  5.0  20.0   1.0  51.0   1.0   \n",
       "\n",
       "      Tsunami Event Validity  Tsunami Cause Code  Earthquake Magnitude  ...  \\\n",
       "0                        NaN                 NaN                   NaN  ...   \n",
       "1                        1.0                 1.0                   NaN  ...   \n",
       "2                        4.0                 6.0                   NaN  ...   \n",
       "3                        1.0                 1.0                   NaN  ...   \n",
       "4                        2.0                 0.0                   6.0  ...   \n",
       "...                      ...                 ...                   ...  ...   \n",
       "2820                     4.0                 1.0                   7.1  ...   \n",
       "2821                     4.0                 1.0                   7.1  ...   \n",
       "2822                     4.0                 1.0                   6.2  ...   \n",
       "2823                     4.0                 1.0                   7.7  ...   \n",
       "2824                     4.0                 1.0                   7.1  ...   \n",
       "\n",
       "      Total Missing  Total Missing Description  Total Injuries  \\\n",
       "0               NaN                        NaN             NaN   \n",
       "1               NaN                        NaN             NaN   \n",
       "2               NaN                        NaN             NaN   \n",
       "3               NaN                        NaN             NaN   \n",
       "4               NaN                        NaN             NaN   \n",
       "...             ...                        ...             ...   \n",
       "2820            NaN                        NaN             NaN   \n",
       "2821            NaN                        NaN             NaN   \n",
       "2822            NaN                        NaN            34.0   \n",
       "2823            NaN                        NaN             NaN   \n",
       "2824            NaN                        NaN             NaN   \n",
       "\n",
       "     Total Injuries Description Total Damage ($Mil)  Total Damage Description  \\\n",
       "0                           NaN                 NaN                       NaN   \n",
       "1                           NaN                 NaN                       4.0   \n",
       "2                           NaN                 NaN                       3.0   \n",
       "3                           NaN                 NaN                       3.0   \n",
       "4                           NaN                 NaN                       NaN   \n",
       "...                         ...                 ...                       ...   \n",
       "2820                        NaN                 NaN                       NaN   \n",
       "2821                        NaN                 NaN                       NaN   \n",
       "2822                        1.0                 NaN                       2.0   \n",
       "2823                        NaN                 NaN                       NaN   \n",
       "2824                        NaN                 NaN                       NaN   \n",
       "\n",
       "      Total Houses Destroyed  Total Houses Destroyed Description  \\\n",
       "0                        NaN                                 NaN   \n",
       "1                        NaN                                 NaN   \n",
       "2                        NaN                                 NaN   \n",
       "3                        NaN                                 NaN   \n",
       "4                        NaN                                 NaN   \n",
       "...                      ...                                 ...   \n",
       "2820                     NaN                                 NaN   \n",
       "2821                     NaN                                 NaN   \n",
       "2822                     3.0                                 1.0   \n",
       "2823                     NaN                                 NaN   \n",
       "2824                     NaN                                 NaN   \n",
       "\n",
       "      Total Houses Damaged  Total Houses Damaged Description  \n",
       "0                      NaN                               NaN  \n",
       "1                      NaN                               NaN  \n",
       "2                      NaN                               NaN  \n",
       "3                      NaN                               NaN  \n",
       "4                      NaN                               NaN  \n",
       "...                    ...                               ...  \n",
       "2820                   NaN                               NaN  \n",
       "2821                   NaN                               NaN  \n",
       "2822                 351.0                               3.0  \n",
       "2823                   NaN                               NaN  \n",
       "2824                   NaN                               NaN  \n",
       "\n",
       "[2825 rows x 46 columns]"
      ]
     },
     "execution_count": 66,
     "metadata": {},
     "output_type": "execute_result"
    }
   ],
   "source": [
    "data"
   ]
  },
  {
   "cell_type": "code",
   "execution_count": 67,
   "id": "28216c5a-1f87-471a-9817-00381317809b",
   "metadata": {},
   "outputs": [
    {
     "name": "stdout",
     "output_type": "stream",
     "text": [
      "<class 'pandas.core.frame.DataFrame'>\n",
      "RangeIndex: 2825 entries, 0 to 2824\n",
      "Data columns (total 46 columns):\n",
      " #   Column                              Non-Null Count  Dtype  \n",
      "---  ------                              --------------  -----  \n",
      " 0   Search Parameters                   1 non-null      object \n",
      " 1   Year                                2824 non-null   float64\n",
      " 2   Mo                                  2674 non-null   float64\n",
      " 3   Dy                                  2562 non-null   float64\n",
      " 4   Hr                                  1483 non-null   float64\n",
      " 5   Mn                                  1396 non-null   float64\n",
      " 6   Sec                                 972 non-null    float64\n",
      " 7   Tsunami Event Validity              2824 non-null   float64\n",
      " 8   Tsunami Cause Code                  2820 non-null   float64\n",
      " 9   Earthquake Magnitude                1604 non-null   float64\n",
      " 10  Vol                                 171 non-null    float64\n",
      " 11  More Info                           0 non-null      float64\n",
      " 12  Deposits                            2824 non-null   float64\n",
      " 13  Country                             2823 non-null   object \n",
      " 14  Location Name                       2822 non-null   object \n",
      " 15  Latitude                            2455 non-null   float64\n",
      " 16  Longitude                           2454 non-null   float64\n",
      " 17  Maximum Water Height (m)            1262 non-null   float64\n",
      " 18  Number of Runups                    2824 non-null   float64\n",
      " 19  Tsunami Magnitude (Abe)             1 non-null      float64\n",
      " 20  Tsunami Magnitude (Iida)            749 non-null    float64\n",
      " 21  Tsunami Intensity                   1244 non-null   float64\n",
      " 22  Deaths                              269 non-null    float64\n",
      " 23  Death Description                   366 non-null    float64\n",
      " 24  Missing                             4 non-null      float64\n",
      " 25  Missing Description                 5 non-null      float64\n",
      " 26  Injuries                            79 non-null     float64\n",
      " 27  Injuries Description                91 non-null     float64\n",
      " 28  Damage ($Mil)                       47 non-null     float64\n",
      " 29  Damage Description                  648 non-null    float64\n",
      " 30  Houses Destroyed                    102 non-null    float64\n",
      " 31  Houses Destroyed Description        286 non-null    float64\n",
      " 32  Houses Damaged                      17 non-null     float64\n",
      " 33  Houses Damaged Description          65 non-null     float64\n",
      " 34  Total Deaths                        643 non-null    float64\n",
      " 35  Total Death Description             797 non-null    float64\n",
      " 36  Total Missing                       11 non-null     float64\n",
      " 37  Total Missing Description           13 non-null     float64\n",
      " 38  Total Injuries                      306 non-null    float64\n",
      " 39  Total Injuries Description          360 non-null    float64\n",
      " 40  Total Damage ($Mil)                 156 non-null    float64\n",
      " 41  Total Damage Description            1269 non-null   float64\n",
      " 42  Total Houses Destroyed              258 non-null    float64\n",
      " 43  Total Houses Destroyed Description  699 non-null    float64\n",
      " 44  Total Houses Damaged                94 non-null     float64\n",
      " 45  Total Houses Damaged Description    267 non-null    float64\n",
      "dtypes: float64(43), object(3)\n",
      "memory usage: 1015.4+ KB\n"
     ]
    }
   ],
   "source": [
    "data.info()"
   ]
  },
  {
   "cell_type": "code",
   "execution_count": 68,
   "id": "6069ffe1-be63-4be4-9dc5-d4cb181458fc",
   "metadata": {},
   "outputs": [
    {
     "name": "stdout",
     "output_type": "stream",
     "text": [
      "      Longitude  Latitude  Earthquake Magnitude  Tsunami Intensity  \\\n",
      "0           NaN       NaN                   NaN                NaN   \n",
      "1        35.800    35.683                   NaN                6.0   \n",
      "2        25.400    36.400                   NaN                6.0   \n",
      "3        35.800    35.683                   NaN                6.0   \n",
      "4        26.240    39.960                   6.0                5.0   \n",
      "...         ...       ...                   ...                ...   \n",
      "2820   -177.826   -29.968                   7.1                NaN   \n",
      "2821     98.524    -0.799                   7.1                NaN   \n",
      "2822    137.305    37.540                   6.2                NaN   \n",
      "2823    170.694   -23.229                   7.7                NaN   \n",
      "2824    170.456   -23.062                   7.1                NaN   \n",
      "\n",
      "      Houses Damaged  \n",
      "0                NaN  \n",
      "1                NaN  \n",
      "2                NaN  \n",
      "3                NaN  \n",
      "4                NaN  \n",
      "...              ...  \n",
      "2820             NaN  \n",
      "2821             NaN  \n",
      "2822             NaN  \n",
      "2823             NaN  \n",
      "2824             NaN  \n",
      "\n",
      "[2825 rows x 5 columns]\n"
     ]
    }
   ],
   "source": [
    "# Memilih beberapa kolom sekaligus\n",
    "data = data[['Longitude', 'Latitude', 'Earthquake Magnitude', 'Tsunami Intensity', 'Houses Damaged']]\n",
    "print(data)\n"
   ]
  },
  {
   "cell_type": "code",
   "execution_count": 69,
   "id": "d5423b8c-e8df-4285-8f0c-99a770b9e1ed",
   "metadata": {},
   "outputs": [
    {
     "data": {
      "text/html": [
       "<div>\n",
       "<style scoped>\n",
       "    .dataframe tbody tr th:only-of-type {\n",
       "        vertical-align: middle;\n",
       "    }\n",
       "\n",
       "    .dataframe tbody tr th {\n",
       "        vertical-align: top;\n",
       "    }\n",
       "\n",
       "    .dataframe thead th {\n",
       "        text-align: right;\n",
       "    }\n",
       "</style>\n",
       "<table border=\"1\" class=\"dataframe\">\n",
       "  <thead>\n",
       "    <tr style=\"text-align: right;\">\n",
       "      <th></th>\n",
       "      <th>Longitude</th>\n",
       "      <th>Latitude</th>\n",
       "      <th>Earthquake Magnitude</th>\n",
       "      <th>Tsunami Intensity</th>\n",
       "      <th>Houses Damaged</th>\n",
       "    </tr>\n",
       "  </thead>\n",
       "  <tbody>\n",
       "    <tr>\n",
       "      <th>0</th>\n",
       "      <td>NaN</td>\n",
       "      <td>NaN</td>\n",
       "      <td>NaN</td>\n",
       "      <td>NaN</td>\n",
       "      <td>NaN</td>\n",
       "    </tr>\n",
       "    <tr>\n",
       "      <th>1</th>\n",
       "      <td>35.800</td>\n",
       "      <td>35.683</td>\n",
       "      <td>NaN</td>\n",
       "      <td>6.0</td>\n",
       "      <td>NaN</td>\n",
       "    </tr>\n",
       "    <tr>\n",
       "      <th>2</th>\n",
       "      <td>25.400</td>\n",
       "      <td>36.400</td>\n",
       "      <td>NaN</td>\n",
       "      <td>6.0</td>\n",
       "      <td>NaN</td>\n",
       "    </tr>\n",
       "    <tr>\n",
       "      <th>3</th>\n",
       "      <td>35.800</td>\n",
       "      <td>35.683</td>\n",
       "      <td>NaN</td>\n",
       "      <td>6.0</td>\n",
       "      <td>NaN</td>\n",
       "    </tr>\n",
       "    <tr>\n",
       "      <th>4</th>\n",
       "      <td>26.240</td>\n",
       "      <td>39.960</td>\n",
       "      <td>6.0</td>\n",
       "      <td>5.0</td>\n",
       "      <td>NaN</td>\n",
       "    </tr>\n",
       "    <tr>\n",
       "      <th>5</th>\n",
       "      <td>NaN</td>\n",
       "      <td>NaN</td>\n",
       "      <td>NaN</td>\n",
       "      <td>3.0</td>\n",
       "      <td>NaN</td>\n",
       "    </tr>\n",
       "    <tr>\n",
       "      <th>6</th>\n",
       "      <td>35.220</td>\n",
       "      <td>33.270</td>\n",
       "      <td>NaN</td>\n",
       "      <td>6.0</td>\n",
       "      <td>NaN</td>\n",
       "    </tr>\n",
       "    <tr>\n",
       "      <th>7</th>\n",
       "      <td>35.370</td>\n",
       "      <td>33.560</td>\n",
       "      <td>NaN</td>\n",
       "      <td>3.0</td>\n",
       "      <td>NaN</td>\n",
       "    </tr>\n",
       "    <tr>\n",
       "      <th>8</th>\n",
       "      <td>23.500</td>\n",
       "      <td>37.900</td>\n",
       "      <td>NaN</td>\n",
       "      <td>NaN</td>\n",
       "      <td>NaN</td>\n",
       "    </tr>\n",
       "    <tr>\n",
       "      <th>9</th>\n",
       "      <td>23.300</td>\n",
       "      <td>39.700</td>\n",
       "      <td>7.0</td>\n",
       "      <td>3.0</td>\n",
       "      <td>NaN</td>\n",
       "    </tr>\n",
       "    <tr>\n",
       "      <th>10</th>\n",
       "      <td>22.700</td>\n",
       "      <td>38.900</td>\n",
       "      <td>7.1</td>\n",
       "      <td>5.0</td>\n",
       "      <td>NaN</td>\n",
       "    </tr>\n",
       "    <tr>\n",
       "      <th>11</th>\n",
       "      <td>22.250</td>\n",
       "      <td>38.250</td>\n",
       "      <td>7.3</td>\n",
       "      <td>5.0</td>\n",
       "      <td>NaN</td>\n",
       "    </tr>\n",
       "    <tr>\n",
       "      <th>12</th>\n",
       "      <td>25.000</td>\n",
       "      <td>40.000</td>\n",
       "      <td>7.0</td>\n",
       "      <td>NaN</td>\n",
       "      <td>NaN</td>\n",
       "    </tr>\n",
       "    <tr>\n",
       "      <th>13</th>\n",
       "      <td>71.000</td>\n",
       "      <td>23.000</td>\n",
       "      <td>NaN</td>\n",
       "      <td>NaN</td>\n",
       "      <td>NaN</td>\n",
       "    </tr>\n",
       "    <tr>\n",
       "      <th>14</th>\n",
       "      <td>28.300</td>\n",
       "      <td>36.300</td>\n",
       "      <td>7.2</td>\n",
       "      <td>3.0</td>\n",
       "      <td>NaN</td>\n",
       "    </tr>\n",
       "    <tr>\n",
       "      <th>15</th>\n",
       "      <td>23.300</td>\n",
       "      <td>38.600</td>\n",
       "      <td>NaN</td>\n",
       "      <td>NaN</td>\n",
       "      <td>NaN</td>\n",
       "    </tr>\n",
       "    <tr>\n",
       "      <th>16</th>\n",
       "      <td>22.784</td>\n",
       "      <td>38.809</td>\n",
       "      <td>NaN</td>\n",
       "      <td>NaN</td>\n",
       "      <td>NaN</td>\n",
       "    </tr>\n",
       "    <tr>\n",
       "      <th>17</th>\n",
       "      <td>-7.170</td>\n",
       "      <td>36.200</td>\n",
       "      <td>NaN</td>\n",
       "      <td>NaN</td>\n",
       "      <td>NaN</td>\n",
       "    </tr>\n",
       "    <tr>\n",
       "      <th>18</th>\n",
       "      <td>-10.500</td>\n",
       "      <td>36.000</td>\n",
       "      <td>NaN</td>\n",
       "      <td>NaN</td>\n",
       "      <td>NaN</td>\n",
       "    </tr>\n",
       "    <tr>\n",
       "      <th>19</th>\n",
       "      <td>25.396</td>\n",
       "      <td>36.404</td>\n",
       "      <td>NaN</td>\n",
       "      <td>NaN</td>\n",
       "      <td>NaN</td>\n",
       "    </tr>\n",
       "  </tbody>\n",
       "</table>\n",
       "</div>"
      ],
      "text/plain": [
       "    Longitude  Latitude  Earthquake Magnitude  Tsunami Intensity  \\\n",
       "0         NaN       NaN                   NaN                NaN   \n",
       "1      35.800    35.683                   NaN                6.0   \n",
       "2      25.400    36.400                   NaN                6.0   \n",
       "3      35.800    35.683                   NaN                6.0   \n",
       "4      26.240    39.960                   6.0                5.0   \n",
       "5         NaN       NaN                   NaN                3.0   \n",
       "6      35.220    33.270                   NaN                6.0   \n",
       "7      35.370    33.560                   NaN                3.0   \n",
       "8      23.500    37.900                   NaN                NaN   \n",
       "9      23.300    39.700                   7.0                3.0   \n",
       "10     22.700    38.900                   7.1                5.0   \n",
       "11     22.250    38.250                   7.3                5.0   \n",
       "12     25.000    40.000                   7.0                NaN   \n",
       "13     71.000    23.000                   NaN                NaN   \n",
       "14     28.300    36.300                   7.2                3.0   \n",
       "15     23.300    38.600                   NaN                NaN   \n",
       "16     22.784    38.809                   NaN                NaN   \n",
       "17     -7.170    36.200                   NaN                NaN   \n",
       "18    -10.500    36.000                   NaN                NaN   \n",
       "19     25.396    36.404                   NaN                NaN   \n",
       "\n",
       "    Houses Damaged  \n",
       "0              NaN  \n",
       "1              NaN  \n",
       "2              NaN  \n",
       "3              NaN  \n",
       "4              NaN  \n",
       "5              NaN  \n",
       "6              NaN  \n",
       "7              NaN  \n",
       "8              NaN  \n",
       "9              NaN  \n",
       "10             NaN  \n",
       "11             NaN  \n",
       "12             NaN  \n",
       "13             NaN  \n",
       "14             NaN  \n",
       "15             NaN  \n",
       "16             NaN  \n",
       "17             NaN  \n",
       "18             NaN  \n",
       "19             NaN  "
      ]
     },
     "execution_count": 69,
     "metadata": {},
     "output_type": "execute_result"
    }
   ],
   "source": [
    "data.head(20)"
   ]
  },
  {
   "cell_type": "code",
   "execution_count": 70,
   "id": "1a15af23-ac16-4e0b-8224-e049ee1f1c2c",
   "metadata": {},
   "outputs": [
    {
     "data": {
      "text/html": [
       "<div>\n",
       "<style scoped>\n",
       "    .dataframe tbody tr th:only-of-type {\n",
       "        vertical-align: middle;\n",
       "    }\n",
       "\n",
       "    .dataframe tbody tr th {\n",
       "        vertical-align: top;\n",
       "    }\n",
       "\n",
       "    .dataframe thead th {\n",
       "        text-align: right;\n",
       "    }\n",
       "</style>\n",
       "<table border=\"1\" class=\"dataframe\">\n",
       "  <thead>\n",
       "    <tr style=\"text-align: right;\">\n",
       "      <th></th>\n",
       "      <th>Longitude</th>\n",
       "      <th>Latitude</th>\n",
       "      <th>Earthquake Magnitude</th>\n",
       "      <th>Tsunami Intensity</th>\n",
       "      <th>Houses Damaged</th>\n",
       "    </tr>\n",
       "  </thead>\n",
       "  <tbody>\n",
       "    <tr>\n",
       "      <th>count</th>\n",
       "      <td>2454.000000</td>\n",
       "      <td>2455.000000</td>\n",
       "      <td>1604.000000</td>\n",
       "      <td>1244.000000</td>\n",
       "      <td>17.000000</td>\n",
       "    </tr>\n",
       "    <tr>\n",
       "      <th>mean</th>\n",
       "      <td>38.726462</td>\n",
       "      <td>17.165632</td>\n",
       "      <td>7.024938</td>\n",
       "      <td>1.412026</td>\n",
       "      <td>19294.588235</td>\n",
       "    </tr>\n",
       "    <tr>\n",
       "      <th>std</th>\n",
       "      <td>104.698872</td>\n",
       "      <td>27.927198</td>\n",
       "      <td>0.788921</td>\n",
       "      <td>1.799354</td>\n",
       "      <td>68072.920543</td>\n",
       "    </tr>\n",
       "    <tr>\n",
       "      <th>min</th>\n",
       "      <td>-179.971000</td>\n",
       "      <td>-63.000000</td>\n",
       "      <td>3.200000</td>\n",
       "      <td>-4.140000</td>\n",
       "      <td>1.000000</td>\n",
       "    </tr>\n",
       "    <tr>\n",
       "      <th>25%</th>\n",
       "      <td>-70.200000</td>\n",
       "      <td>-5.000000</td>\n",
       "      <td>6.500000</td>\n",
       "      <td>0.500000</td>\n",
       "      <td>8.000000</td>\n",
       "    </tr>\n",
       "    <tr>\n",
       "      <th>50%</th>\n",
       "      <td>29.945000</td>\n",
       "      <td>23.600000</td>\n",
       "      <td>7.000000</td>\n",
       "      <td>1.500000</td>\n",
       "      <td>182.000000</td>\n",
       "    </tr>\n",
       "    <tr>\n",
       "      <th>75%</th>\n",
       "      <td>136.800000</td>\n",
       "      <td>38.730000</td>\n",
       "      <td>7.500000</td>\n",
       "      <td>3.000000</td>\n",
       "      <td>500.000000</td>\n",
       "    </tr>\n",
       "    <tr>\n",
       "      <th>max</th>\n",
       "      <td>179.984000</td>\n",
       "      <td>78.370000</td>\n",
       "      <td>9.500000</td>\n",
       "      <td>9.000000</td>\n",
       "      <td>280920.000000</td>\n",
       "    </tr>\n",
       "  </tbody>\n",
       "</table>\n",
       "</div>"
      ],
      "text/plain": [
       "         Longitude     Latitude  Earthquake Magnitude  Tsunami Intensity  \\\n",
       "count  2454.000000  2455.000000           1604.000000        1244.000000   \n",
       "mean     38.726462    17.165632              7.024938           1.412026   \n",
       "std     104.698872    27.927198              0.788921           1.799354   \n",
       "min    -179.971000   -63.000000              3.200000          -4.140000   \n",
       "25%     -70.200000    -5.000000              6.500000           0.500000   \n",
       "50%      29.945000    23.600000              7.000000           1.500000   \n",
       "75%     136.800000    38.730000              7.500000           3.000000   \n",
       "max     179.984000    78.370000              9.500000           9.000000   \n",
       "\n",
       "       Houses Damaged  \n",
       "count       17.000000  \n",
       "mean     19294.588235  \n",
       "std      68072.920543  \n",
       "min          1.000000  \n",
       "25%          8.000000  \n",
       "50%        182.000000  \n",
       "75%        500.000000  \n",
       "max     280920.000000  "
      ]
     },
     "execution_count": 70,
     "metadata": {},
     "output_type": "execute_result"
    }
   ],
   "source": [
    "data.describe()"
   ]
  },
  {
   "cell_type": "code",
   "execution_count": 71,
   "id": "b9e07edd-5b95-4cda-9819-45f6c56dd632",
   "metadata": {},
   "outputs": [
    {
     "name": "stdout",
     "output_type": "stream",
     "text": [
      "<class 'pandas.core.frame.DataFrame'>\n",
      "RangeIndex: 2825 entries, 0 to 2824\n",
      "Data columns (total 5 columns):\n",
      " #   Column                Non-Null Count  Dtype  \n",
      "---  ------                --------------  -----  \n",
      " 0   Longitude             2454 non-null   float64\n",
      " 1   Latitude              2455 non-null   float64\n",
      " 2   Earthquake Magnitude  1604 non-null   float64\n",
      " 3   Tsunami Intensity     1244 non-null   float64\n",
      " 4   Houses Damaged        17 non-null     float64\n",
      "dtypes: float64(5)\n",
      "memory usage: 110.5 KB\n"
     ]
    }
   ],
   "source": [
    "data.info()"
   ]
  },
  {
   "cell_type": "code",
   "execution_count": null,
   "id": "72cd92c2-d827-4b08-9357-c45ae76da09d",
   "metadata": {},
   "outputs": [],
   "source": []
  },
  {
   "cell_type": "markdown",
   "id": "69cafe76-3074-43d6-8039-d58f9f8b8f44",
   "metadata": {},
   "source": [
    "### Data Visualization ###"
   ]
  },
  {
   "cell_type": "code",
   "execution_count": 72,
   "id": "15acc320-8936-4909-9df5-396416f9ebff",
   "metadata": {},
   "outputs": [],
   "source": [
    "import seaborn as sns"
   ]
  },
  {
   "cell_type": "code",
   "execution_count": 73,
   "id": "413e2b60-d5f4-406b-91b0-f2573ebd5c6b",
   "metadata": {},
   "outputs": [
    {
     "name": "stderr",
     "output_type": "stream",
     "text": [
      "/Users/aisyah/opt/anaconda3/lib/python3.9/site-packages/seaborn/distributions.py:2619: FutureWarning: `distplot` is a deprecated function and will be removed in a future version. Please adapt your code to use either `displot` (a figure-level function with similar flexibility) or `histplot` (an axes-level function for histograms).\n",
      "  warnings.warn(msg, FutureWarning)\n"
     ]
    },
    {
     "data": {
      "image/png": "[encoded data removed]",
      "text/plain": [
       "<Figure size 720x360 with 1 Axes>"
      ]
     },
     "metadata": {
      "needs_background": "light"
     },
     "output_type": "display_data"
    }
   ],
   "source": [
    "plt.figure(figsize=(10,5))\n",
    "sns.distplot(data[\"Tsunami Intensity\"])\n",
    "plt.show()"
   ]
  },
  {
   "cell_type": "code",
   "execution_count": 74,
   "id": "1647f238-209f-498f-9e8a-ad386af38031",
   "metadata": {},
   "outputs": [
    {
     "name": "stderr",
     "output_type": "stream",
     "text": [
      "/Users/aisyah/opt/anaconda3/lib/python3.9/site-packages/seaborn/distributions.py:2619: FutureWarning: `distplot` is a deprecated function and will be removed in a future version. Please adapt your code to use either `displot` (a figure-level function with similar flexibility) or `histplot` (an axes-level function for histograms).\n",
      "  warnings.warn(msg, FutureWarning)\n"
     ]
    },
    {
     "data": {
      "image/png": "[encoded data removed]",
      "text/plain": [
       "<Figure size 720x360 with 1 Axes>"
      ]
     },
     "metadata": {
      "needs_background": "light"
     },
     "output_type": "display_data"
    }
   ],
   "source": [
    "plt.figure(figsize=(10,5))\n",
    "sns.distplot(data[\"Earthquake Magnitude\"])\n",
    "plt.show()"
   ]
  },
  {
   "cell_type": "code",
   "execution_count": 75,
   "id": "61a366a9-49a5-4d25-a86e-806c3f2b5fa7",
   "metadata": {},
   "outputs": [
    {
     "name": "stderr",
     "output_type": "stream",
     "text": [
      "/Users/aisyah/opt/anaconda3/lib/python3.9/site-packages/seaborn/distributions.py:2619: FutureWarning: `distplot` is a deprecated function and will be removed in a future version. Please adapt your code to use either `displot` (a figure-level function with similar flexibility) or `histplot` (an axes-level function for histograms).\n",
      "  warnings.warn(msg, FutureWarning)\n"
     ]
    },
    {
     "data": {
      "image/png": "[encoded data removed]",
      "text/plain": [
       "<Figure size 720x360 with 1 Axes>"
      ]
     },
     "metadata": {
      "needs_background": "light"
     },
     "output_type": "display_data"
    }
   ],
   "source": [
    "plt.figure(figsize=(10,5))\n",
    "sns.distplot(data[\"Houses Damaged\"])\n",
    "plt.show()"
   ]
  },
  {
   "cell_type": "code",
   "execution_count": 76,
   "id": "520e6e26-c924-4773-9e39-19fe7bd4fb91",
   "metadata": {},
   "outputs": [
    {
     "name": "stderr",
     "output_type": "stream",
     "text": [
      "/Users/aisyah/opt/anaconda3/lib/python3.9/site-packages/seaborn/distributions.py:2619: FutureWarning: `distplot` is a deprecated function and will be removed in a future version. Please adapt your code to use either `displot` (a figure-level function with similar flexibility) or `histplot` (an axes-level function for histograms).\n",
      "  warnings.warn(msg, FutureWarning)\n"
     ]
    },
    {
     "data": {
      "image/png": "[encoded data removed]",
      "text/plain": [
       "<Figure size 720x360 with 1 Axes>"
      ]
     },
     "metadata": {
      "needs_background": "light"
     },
     "output_type": "display_data"
    }
   ],
   "source": [
    "plt.figure(figsize=(10,5))\n",
    "sns.distplot(data[\"Latitude\"])\n",
    "plt.show()"
   ]
  },
  {
   "cell_type": "code",
   "execution_count": 77,
   "id": "2cb8a92b-6c5c-473e-9375-18ffcb7a1011",
   "metadata": {},
   "outputs": [
    {
     "name": "stderr",
     "output_type": "stream",
     "text": [
      "/Users/aisyah/opt/anaconda3/lib/python3.9/site-packages/seaborn/distributions.py:2619: FutureWarning: `distplot` is a deprecated function and will be removed in a future version. Please adapt your code to use either `displot` (a figure-level function with similar flexibility) or `histplot` (an axes-level function for histograms).\n",
      "  warnings.warn(msg, FutureWarning)\n"
     ]
    },
    {
     "data": {
      "image/png": "[encoded data removed]",
      "text/plain": [
       "<Figure size 720x360 with 1 Axes>"
      ]
     },
     "metadata": {
      "needs_background": "light"
     },
     "output_type": "display_data"
    }
   ],
   "source": [
    "plt.figure(figsize=(10,5))\n",
    "sns.distplot(data[\"Longitude\"])\n",
    "plt.show()"
   ]
  },
  {
   "cell_type": "code",
   "execution_count": 78,
   "id": "6390514c-f4d8-49cb-b0c1-ba21b33011b1",
   "metadata": {},
   "outputs": [
    {
     "name": "stderr",
     "output_type": "stream",
     "text": [
      "/var/folders/kc/79mb9cp57_lbypjgwhd38qpc0000gn/T/ipykernel_1441/191128470.py:3: SettingWithCopyWarning: \n",
      "A value is trying to be set on a copy of a slice from a DataFrame.\n",
      "Try using .loc[row_indexer,col_indexer] = value instead\n",
      "\n",
      "See the caveats in the documentation: https://pandas.pydata.org/pandas-docs/stable/user_guide/indexing.html#returning-a-view-versus-a-copy\n",
      "  data[\"Tsunami Intensity\"]=data[\"Tsunami Intensity\"].fillna(fill)\n"
     ]
    }
   ],
   "source": [
    "#Because the Tsunami Intensity variable has symetrical distribution, therefore the missing value is imputed with the mean\n",
    "fill=data[\"Tsunami Intensity\"].mean()\n",
    "data[\"Tsunami Intensity\"]=data[\"Tsunami Intensity\"].fillna(fill)"
   ]
  },
  {
   "cell_type": "code",
   "execution_count": 79,
   "id": "cf3cc349-7d5c-4ae8-9cf3-35092671936a",
   "metadata": {},
   "outputs": [
    {
     "name": "stderr",
     "output_type": "stream",
     "text": [
      "/var/folders/kc/79mb9cp57_lbypjgwhd38qpc0000gn/T/ipykernel_1441/1496421480.py:3: SettingWithCopyWarning: \n",
      "A value is trying to be set on a copy of a slice from a DataFrame.\n",
      "Try using .loc[row_indexer,col_indexer] = value instead\n",
      "\n",
      "See the caveats in the documentation: https://pandas.pydata.org/pandas-docs/stable/user_guide/indexing.html#returning-a-view-versus-a-copy\n",
      "  data[\"Earthquake Magnitude\"]=data[\"Earthquake Magnitude\"].fillna(fill)\n"
     ]
    }
   ],
   "source": [
    "#Because the ph variable has symetrical distribution, therefore the missing value is imputed with the mean\n",
    "fill=data[\"Earthquake Magnitude\"].mean()\n",
    "data[\"Earthquake Magnitude\"]=data[\"Earthquake Magnitude\"].fillna(fill)"
   ]
  },
  {
   "cell_type": "code",
   "execution_count": 80,
   "id": "ec50f939-2a19-411a-9576-b4469e23fbd9",
   "metadata": {},
   "outputs": [
    {
     "name": "stdout",
     "output_type": "stream",
     "text": [
      "<class 'pandas.core.frame.DataFrame'>\n",
      "RangeIndex: 2825 entries, 0 to 2824\n",
      "Data columns (total 5 columns):\n",
      " #   Column                Non-Null Count  Dtype  \n",
      "---  ------                --------------  -----  \n",
      " 0   Longitude             2454 non-null   float64\n",
      " 1   Latitude              2455 non-null   float64\n",
      " 2   Earthquake Magnitude  2825 non-null   float64\n",
      " 3   Tsunami Intensity     2825 non-null   float64\n",
      " 4   Houses Damaged        17 non-null     float64\n",
      "dtypes: float64(5)\n",
      "memory usage: 110.5 KB\n"
     ]
    }
   ],
   "source": [
    "data.info()"
   ]
  },
  {
   "cell_type": "code",
   "execution_count": 81,
   "id": "6296926c-9006-42ba-ad52-0d18348c098c",
   "metadata": {},
   "outputs": [
    {
     "name": "stderr",
     "output_type": "stream",
     "text": [
      "/var/folders/kc/79mb9cp57_lbypjgwhd38qpc0000gn/T/ipykernel_1441/3835103084.py:2: SettingWithCopyWarning: \n",
      "A value is trying to be set on a copy of a slice from a DataFrame.\n",
      "Try using .loc[row_indexer,col_indexer] = value instead\n",
      "\n",
      "See the caveats in the documentation: https://pandas.pydata.org/pandas-docs/stable/user_guide/indexing.html#returning-a-view-versus-a-copy\n",
      "  data[\"Latitude\"]=data[\"Latitude\"].fillna(fill)\n"
     ]
    }
   ],
   "source": [
    "fill=data[\"Latitude\"].median()\n",
    "data[\"Latitude\"]=data[\"Latitude\"].fillna(fill)"
   ]
  },
  {
   "cell_type": "code",
   "execution_count": 82,
   "id": "f70c6d12-1042-4338-8460-aff38a89272c",
   "metadata": {},
   "outputs": [
    {
     "name": "stderr",
     "output_type": "stream",
     "text": [
      "/var/folders/kc/79mb9cp57_lbypjgwhd38qpc0000gn/T/ipykernel_1441/3080853808.py:2: SettingWithCopyWarning: \n",
      "A value is trying to be set on a copy of a slice from a DataFrame.\n",
      "Try using .loc[row_indexer,col_indexer] = value instead\n",
      "\n",
      "See the caveats in the documentation: https://pandas.pydata.org/pandas-docs/stable/user_guide/indexing.html#returning-a-view-versus-a-copy\n",
      "  data[\"Longitude\"]=data[\"Longitude\"].fillna(fill)\n"
     ]
    }
   ],
   "source": [
    "fill=data[\"Longitude\"].median()\n",
    "data[\"Longitude\"]=data[\"Longitude\"].fillna(fill)"
   ]
  },
  {
   "cell_type": "code",
   "execution_count": 83,
   "id": "73ddb6f6-8d25-4a4a-bea3-17d7bfbf3be9",
   "metadata": {},
   "outputs": [
    {
     "name": "stderr",
     "output_type": "stream",
     "text": [
      "/var/folders/kc/79mb9cp57_lbypjgwhd38qpc0000gn/T/ipykernel_1441/425464566.py:3: SettingWithCopyWarning: \n",
      "A value is trying to be set on a copy of a slice from a DataFrame.\n",
      "Try using .loc[row_indexer,col_indexer] = value instead\n",
      "\n",
      "See the caveats in the documentation: https://pandas.pydata.org/pandas-docs/stable/user_guide/indexing.html#returning-a-view-versus-a-copy\n",
      "  data[\"Houses Damaged\"]=data[\"Houses Damaged\"].fillna(fill)\n"
     ]
    }
   ],
   "source": [
    "#Because the ph variable has symetrical distribution, therefore the missing value is imputed with the mean\n",
    "fill=data[\"Houses Damaged\"].mean()\n",
    "data[\"Houses Damaged\"]=data[\"Houses Damaged\"].fillna(fill)"
   ]
  },
  {
   "cell_type": "code",
   "execution_count": 84,
   "id": "d01c2b02-bda3-453f-853f-ce3ee87ff48c",
   "metadata": {},
   "outputs": [
    {
     "data": {
      "text/html": [
       "<div>\n",
       "<style scoped>\n",
       "    .dataframe tbody tr th:only-of-type {\n",
       "        vertical-align: middle;\n",
       "    }\n",
       "\n",
       "    .dataframe tbody tr th {\n",
       "        vertical-align: top;\n",
       "    }\n",
       "\n",
       "    .dataframe thead th {\n",
       "        text-align: right;\n",
       "    }\n",
       "</style>\n",
       "<table border=\"1\" class=\"dataframe\">\n",
       "  <thead>\n",
       "    <tr style=\"text-align: right;\">\n",
       "      <th></th>\n",
       "      <th>Longitude</th>\n",
       "      <th>Latitude</th>\n",
       "      <th>Earthquake Magnitude</th>\n",
       "      <th>Tsunami Intensity</th>\n",
       "      <th>Houses Damaged</th>\n",
       "    </tr>\n",
       "  </thead>\n",
       "  <tbody>\n",
       "    <tr>\n",
       "      <th>count</th>\n",
       "      <td>2825.000000</td>\n",
       "      <td>2825.000000</td>\n",
       "      <td>2825.000000</td>\n",
       "      <td>2825.000000</td>\n",
       "      <td>2825.000000</td>\n",
       "    </tr>\n",
       "    <tr>\n",
       "      <th>mean</th>\n",
       "      <td>37.573215</td>\n",
       "      <td>18.008364</td>\n",
       "      <td>7.024938</td>\n",
       "      <td>1.412026</td>\n",
       "      <td>19294.588235</td>\n",
       "    </tr>\n",
       "    <tr>\n",
       "      <th>std</th>\n",
       "      <td>97.624547</td>\n",
       "      <td>26.123863</td>\n",
       "      <td>0.594385</td>\n",
       "      <td>1.193768</td>\n",
       "      <td>5123.916322</td>\n",
       "    </tr>\n",
       "    <tr>\n",
       "      <th>min</th>\n",
       "      <td>-179.971000</td>\n",
       "      <td>-63.000000</td>\n",
       "      <td>3.200000</td>\n",
       "      <td>-4.140000</td>\n",
       "      <td>1.000000</td>\n",
       "    </tr>\n",
       "    <tr>\n",
       "      <th>25%</th>\n",
       "      <td>-61.170000</td>\n",
       "      <td>-2.500000</td>\n",
       "      <td>7.000000</td>\n",
       "      <td>1.412026</td>\n",
       "      <td>19294.588235</td>\n",
       "    </tr>\n",
       "    <tr>\n",
       "      <th>50%</th>\n",
       "      <td>29.945000</td>\n",
       "      <td>23.600000</td>\n",
       "      <td>7.024938</td>\n",
       "      <td>1.412026</td>\n",
       "      <td>19294.588235</td>\n",
       "    </tr>\n",
       "    <tr>\n",
       "      <th>75%</th>\n",
       "      <td>130.000000</td>\n",
       "      <td>38.117000</td>\n",
       "      <td>7.100000</td>\n",
       "      <td>1.412026</td>\n",
       "      <td>19294.588235</td>\n",
       "    </tr>\n",
       "    <tr>\n",
       "      <th>max</th>\n",
       "      <td>179.984000</td>\n",
       "      <td>78.370000</td>\n",
       "      <td>9.500000</td>\n",
       "      <td>9.000000</td>\n",
       "      <td>280920.000000</td>\n",
       "    </tr>\n",
       "  </tbody>\n",
       "</table>\n",
       "</div>"
      ],
      "text/plain": [
       "         Longitude     Latitude  Earthquake Magnitude  Tsunami Intensity  \\\n",
       "count  2825.000000  2825.000000           2825.000000        2825.000000   \n",
       "mean     37.573215    18.008364              7.024938           1.412026   \n",
       "std      97.624547    26.123863              0.594385           1.193768   \n",
       "min    -179.971000   -63.000000              3.200000          -4.140000   \n",
       "25%     -61.170000    -2.500000              7.000000           1.412026   \n",
       "50%      29.945000    23.600000              7.024938           1.412026   \n",
       "75%     130.000000    38.117000              7.100000           1.412026   \n",
       "max     179.984000    78.370000              9.500000           9.000000   \n",
       "\n",
       "       Houses Damaged  \n",
       "count     2825.000000  \n",
       "mean     19294.588235  \n",
       "std       5123.916322  \n",
       "min          1.000000  \n",
       "25%      19294.588235  \n",
       "50%      19294.588235  \n",
       "75%      19294.588235  \n",
       "max     280920.000000  "
      ]
     },
     "execution_count": 84,
     "metadata": {},
     "output_type": "execute_result"
    }
   ],
   "source": [
    "data.describe()"
   ]
  },
  {
   "cell_type": "code",
   "execution_count": 85,
   "id": "4f383df7-d8ab-4eb9-83bb-3853f3c1ac58",
   "metadata": {},
   "outputs": [
    {
     "name": "stdout",
     "output_type": "stream",
     "text": [
      "      Longitude  Latitude  Earthquake Magnitude  Tsunami Intensity  \\\n",
      "0        29.945    23.600              7.024938           1.412026   \n",
      "1        35.800    35.683              7.024938           6.000000   \n",
      "2        25.400    36.400              7.024938           6.000000   \n",
      "3        35.800    35.683              7.024938           6.000000   \n",
      "4        26.240    39.960              6.000000           5.000000   \n",
      "...         ...       ...                   ...                ...   \n",
      "2820   -177.826   -29.968              7.100000           1.412026   \n",
      "2821     98.524    -0.799              7.100000           1.412026   \n",
      "2822    137.305    37.540              6.200000           1.412026   \n",
      "2823    170.694   -23.229              7.700000           1.412026   \n",
      "2824    170.456   -23.062              7.100000           1.412026   \n",
      "\n",
      "      Houses Damaged  \n",
      "0       19294.588235  \n",
      "1       19294.588235  \n",
      "2       19294.588235  \n",
      "3       19294.588235  \n",
      "4       19294.588235  \n",
      "...              ...  \n",
      "2820    19294.588235  \n",
      "2821    19294.588235  \n",
      "2822    19294.588235  \n",
      "2823    19294.588235  \n",
      "2824    19294.588235  \n",
      "\n",
      "[2825 rows x 5 columns]\n"
     ]
    }
   ],
   "source": [
    "# Memilih beberapa kolom sekaligus\n",
    "data = data[['Longitude', 'Latitude', 'Earthquake Magnitude', 'Tsunami Intensity', 'Houses Damaged']]\n",
    "print(data)\n"
   ]
  },
  {
   "cell_type": "code",
   "execution_count": 86,
   "id": "d41e9b89-2c4c-42fd-a5cd-782db15375cc",
   "metadata": {},
   "outputs": [
    {
     "name": "stdout",
     "output_type": "stream",
     "text": [
      "<class 'pandas.core.frame.DataFrame'>\n",
      "RangeIndex: 2825 entries, 0 to 2824\n",
      "Data columns (total 5 columns):\n",
      " #   Column                Non-Null Count  Dtype  \n",
      "---  ------                --------------  -----  \n",
      " 0   Longitude             2825 non-null   float64\n",
      " 1   Latitude              2825 non-null   float64\n",
      " 2   Earthquake Magnitude  2825 non-null   float64\n",
      " 3   Tsunami Intensity     2825 non-null   float64\n",
      " 4   Houses Damaged        2825 non-null   float64\n",
      "dtypes: float64(5)\n",
      "memory usage: 110.5 KB\n"
     ]
    }
   ],
   "source": [
    "data.info()"
   ]
  },
  {
   "cell_type": "code",
   "execution_count": 87,
   "id": "228ffd1a-8714-4fef-bddd-79b8f03cec05",
   "metadata": {},
   "outputs": [
    {
     "data": {
      "text/html": [
       "<div>\n",
       "<style scoped>\n",
       "    .dataframe tbody tr th:only-of-type {\n",
       "        vertical-align: middle;\n",
       "    }\n",
       "\n",
       "    .dataframe tbody tr th {\n",
       "        vertical-align: top;\n",
       "    }\n",
       "\n",
       "    .dataframe thead th {\n",
       "        text-align: right;\n",
       "    }\n",
       "</style>\n",
       "<table border=\"1\" class=\"dataframe\">\n",
       "  <thead>\n",
       "    <tr style=\"text-align: right;\">\n",
       "      <th></th>\n",
       "      <th>Longitude</th>\n",
       "      <th>Latitude</th>\n",
       "      <th>Earthquake Magnitude</th>\n",
       "      <th>Tsunami Intensity</th>\n",
       "      <th>Houses Damaged</th>\n",
       "    </tr>\n",
       "  </thead>\n",
       "  <tbody>\n",
       "    <tr>\n",
       "      <th>count</th>\n",
       "      <td>2825.000000</td>\n",
       "      <td>2825.000000</td>\n",
       "      <td>2825.000000</td>\n",
       "      <td>2825.000000</td>\n",
       "      <td>2825.000000</td>\n",
       "    </tr>\n",
       "    <tr>\n",
       "      <th>mean</th>\n",
       "      <td>37.573215</td>\n",
       "      <td>18.008364</td>\n",
       "      <td>7.024938</td>\n",
       "      <td>1.412026</td>\n",
       "      <td>19294.588235</td>\n",
       "    </tr>\n",
       "    <tr>\n",
       "      <th>std</th>\n",
       "      <td>97.624547</td>\n",
       "      <td>26.123863</td>\n",
       "      <td>0.594385</td>\n",
       "      <td>1.193768</td>\n",
       "      <td>5123.916322</td>\n",
       "    </tr>\n",
       "    <tr>\n",
       "      <th>min</th>\n",
       "      <td>-179.971000</td>\n",
       "      <td>-63.000000</td>\n",
       "      <td>3.200000</td>\n",
       "      <td>-4.140000</td>\n",
       "      <td>1.000000</td>\n",
       "    </tr>\n",
       "    <tr>\n",
       "      <th>25%</th>\n",
       "      <td>-61.170000</td>\n",
       "      <td>-2.500000</td>\n",
       "      <td>7.000000</td>\n",
       "      <td>1.412026</td>\n",
       "      <td>19294.588235</td>\n",
       "    </tr>\n",
       "    <tr>\n",
       "      <th>50%</th>\n",
       "      <td>29.945000</td>\n",
       "      <td>23.600000</td>\n",
       "      <td>7.024938</td>\n",
       "      <td>1.412026</td>\n",
       "      <td>19294.588235</td>\n",
       "    </tr>\n",
       "    <tr>\n",
       "      <th>75%</th>\n",
       "      <td>130.000000</td>\n",
       "      <td>38.117000</td>\n",
       "      <td>7.100000</td>\n",
       "      <td>1.412026</td>\n",
       "      <td>19294.588235</td>\n",
       "    </tr>\n",
       "    <tr>\n",
       "      <th>max</th>\n",
       "      <td>179.984000</td>\n",
       "      <td>78.370000</td>\n",
       "      <td>9.500000</td>\n",
       "      <td>9.000000</td>\n",
       "      <td>280920.000000</td>\n",
       "    </tr>\n",
       "  </tbody>\n",
       "</table>\n",
       "</div>"
      ],
      "text/plain": [
       "         Longitude     Latitude  Earthquake Magnitude  Tsunami Intensity  \\\n",
       "count  2825.000000  2825.000000           2825.000000        2825.000000   \n",
       "mean     37.573215    18.008364              7.024938           1.412026   \n",
       "std      97.624547    26.123863              0.594385           1.193768   \n",
       "min    -179.971000   -63.000000              3.200000          -4.140000   \n",
       "25%     -61.170000    -2.500000              7.000000           1.412026   \n",
       "50%      29.945000    23.600000              7.024938           1.412026   \n",
       "75%     130.000000    38.117000              7.100000           1.412026   \n",
       "max     179.984000    78.370000              9.500000           9.000000   \n",
       "\n",
       "       Houses Damaged  \n",
       "count     2825.000000  \n",
       "mean     19294.588235  \n",
       "std       5123.916322  \n",
       "min          1.000000  \n",
       "25%      19294.588235  \n",
       "50%      19294.588235  \n",
       "75%      19294.588235  \n",
       "max     280920.000000  "
      ]
     },
     "execution_count": 87,
     "metadata": {},
     "output_type": "execute_result"
    }
   ],
   "source": [
    "data.describe()"
   ]
  },
  {
   "cell_type": "code",
   "execution_count": 88,
   "id": "dbbce5f1-ecfe-4239-926e-7180424d3e06",
   "metadata": {},
   "outputs": [
    {
     "data": {
      "text/html": [
       "<div>\n",
       "<style scoped>\n",
       "    .dataframe tbody tr th:only-of-type {\n",
       "        vertical-align: middle;\n",
       "    }\n",
       "\n",
       "    .dataframe tbody tr th {\n",
       "        vertical-align: top;\n",
       "    }\n",
       "\n",
       "    .dataframe thead th {\n",
       "        text-align: right;\n",
       "    }\n",
       "</style>\n",
       "<table border=\"1\" class=\"dataframe\">\n",
       "  <thead>\n",
       "    <tr style=\"text-align: right;\">\n",
       "      <th></th>\n",
       "      <th>Longitude</th>\n",
       "      <th>Latitude</th>\n",
       "      <th>Earthquake Magnitude</th>\n",
       "      <th>Tsunami Intensity</th>\n",
       "      <th>Houses Damaged</th>\n",
       "      <th>tsunami_category</th>\n",
       "    </tr>\n",
       "  </thead>\n",
       "  <tbody>\n",
       "    <tr>\n",
       "      <th>0</th>\n",
       "      <td>29.945</td>\n",
       "      <td>23.600</td>\n",
       "      <td>7.024938</td>\n",
       "      <td>1.412026</td>\n",
       "      <td>19294.588235</td>\n",
       "      <td>0</td>\n",
       "    </tr>\n",
       "    <tr>\n",
       "      <th>1</th>\n",
       "      <td>35.800</td>\n",
       "      <td>35.683</td>\n",
       "      <td>7.024938</td>\n",
       "      <td>6.000000</td>\n",
       "      <td>19294.588235</td>\n",
       "      <td>1</td>\n",
       "    </tr>\n",
       "    <tr>\n",
       "      <th>2</th>\n",
       "      <td>25.400</td>\n",
       "      <td>36.400</td>\n",
       "      <td>7.024938</td>\n",
       "      <td>6.000000</td>\n",
       "      <td>19294.588235</td>\n",
       "      <td>1</td>\n",
       "    </tr>\n",
       "    <tr>\n",
       "      <th>3</th>\n",
       "      <td>35.800</td>\n",
       "      <td>35.683</td>\n",
       "      <td>7.024938</td>\n",
       "      <td>6.000000</td>\n",
       "      <td>19294.588235</td>\n",
       "      <td>1</td>\n",
       "    </tr>\n",
       "    <tr>\n",
       "      <th>4</th>\n",
       "      <td>26.240</td>\n",
       "      <td>39.960</td>\n",
       "      <td>6.000000</td>\n",
       "      <td>5.000000</td>\n",
       "      <td>19294.588235</td>\n",
       "      <td>1</td>\n",
       "    </tr>\n",
       "    <tr>\n",
       "      <th>5</th>\n",
       "      <td>29.945</td>\n",
       "      <td>23.600</td>\n",
       "      <td>7.024938</td>\n",
       "      <td>3.000000</td>\n",
       "      <td>19294.588235</td>\n",
       "      <td>0</td>\n",
       "    </tr>\n",
       "    <tr>\n",
       "      <th>6</th>\n",
       "      <td>35.220</td>\n",
       "      <td>33.270</td>\n",
       "      <td>7.024938</td>\n",
       "      <td>6.000000</td>\n",
       "      <td>19294.588235</td>\n",
       "      <td>1</td>\n",
       "    </tr>\n",
       "    <tr>\n",
       "      <th>7</th>\n",
       "      <td>35.370</td>\n",
       "      <td>33.560</td>\n",
       "      <td>7.024938</td>\n",
       "      <td>3.000000</td>\n",
       "      <td>19294.588235</td>\n",
       "      <td>0</td>\n",
       "    </tr>\n",
       "    <tr>\n",
       "      <th>8</th>\n",
       "      <td>23.500</td>\n",
       "      <td>37.900</td>\n",
       "      <td>7.024938</td>\n",
       "      <td>1.412026</td>\n",
       "      <td>19294.588235</td>\n",
       "      <td>0</td>\n",
       "    </tr>\n",
       "    <tr>\n",
       "      <th>9</th>\n",
       "      <td>23.300</td>\n",
       "      <td>39.700</td>\n",
       "      <td>7.000000</td>\n",
       "      <td>3.000000</td>\n",
       "      <td>19294.588235</td>\n",
       "      <td>0</td>\n",
       "    </tr>\n",
       "  </tbody>\n",
       "</table>\n",
       "</div>"
      ],
      "text/plain": [
       "   Longitude  Latitude  Earthquake Magnitude  Tsunami Intensity  \\\n",
       "0     29.945    23.600              7.024938           1.412026   \n",
       "1     35.800    35.683              7.024938           6.000000   \n",
       "2     25.400    36.400              7.024938           6.000000   \n",
       "3     35.800    35.683              7.024938           6.000000   \n",
       "4     26.240    39.960              6.000000           5.000000   \n",
       "5     29.945    23.600              7.024938           3.000000   \n",
       "6     35.220    33.270              7.024938           6.000000   \n",
       "7     35.370    33.560              7.024938           3.000000   \n",
       "8     23.500    37.900              7.024938           1.412026   \n",
       "9     23.300    39.700              7.000000           3.000000   \n",
       "\n",
       "   Houses Damaged  tsunami_category  \n",
       "0    19294.588235                 0  \n",
       "1    19294.588235                 1  \n",
       "2    19294.588235                 1  \n",
       "3    19294.588235                 1  \n",
       "4    19294.588235                 1  \n",
       "5    19294.588235                 0  \n",
       "6    19294.588235                 1  \n",
       "7    19294.588235                 0  \n",
       "8    19294.588235                 0  \n",
       "9    19294.588235                 0  "
      ]
     },
     "execution_count": 88,
     "metadata": {},
     "output_type": "execute_result"
    }
   ],
   "source": [
    "data['tsunami_category'] = np.where(data['Tsunami Intensity'] >= 5, '1', '0')\n",
    "data['tsunami_category']= pd.to_numeric(data['tsunami_category'])\n",
    "data.head(10)"
   ]
  },
  {
   "cell_type": "code",
   "execution_count": 89,
   "id": "b941130c-5154-4ba6-b940-96ae2e79aea9",
   "metadata": {},
   "outputs": [
    {
     "data": {
      "text/plain": [
       "<AxesSubplot:xlabel='Earthquake Magnitude', ylabel='Tsunami Intensity'>"
      ]
     },
     "execution_count": 89,
     "metadata": {},
     "output_type": "execute_result"
    },
    {
     "data": {
      "image/png": "[encoded data removed]",
      "text/plain": [
       "<Figure size 432x288 with 1 Axes>"
      ]
     },
     "metadata": {
      "needs_background": "light"
     },
     "output_type": "display_data"
    }
   ],
   "source": [
    "sns.scatterplot(x=data['Earthquake Magnitude'], y=data['Tsunami Intensity'])"
   ]
  },
  {
   "cell_type": "code",
   "execution_count": 90,
   "id": "0029e1d3-7807-48dd-b9cf-9fb54d402d6a",
   "metadata": {},
   "outputs": [
    {
     "data": {
      "text/plain": [
       "<AxesSubplot:xlabel='Earthquake Magnitude', ylabel='Tsunami Intensity'>"
      ]
     },
     "execution_count": 90,
     "metadata": {},
     "output_type": "execute_result"
    },
    {
     "data": {
      "image/png": "[encoded data removed]",
      "text/plain": [
       "<Figure size 432x288 with 1 Axes>"
      ]
     },
     "metadata": {
      "needs_background": "light"
     },
     "output_type": "display_data"
    }
   ],
   "source": [
    "sns.regplot(x=data['Earthquake Magnitude'], y=data['Tsunami Intensity'])"
   ]
  },
  {
   "cell_type": "code",
   "execution_count": 91,
   "id": "349e0dfa-8e05-4cc6-a63a-40fadab5eeb8",
   "metadata": {},
   "outputs": [
    {
     "data": {
      "text/plain": [
       "<seaborn.axisgrid.FacetGrid at 0x7f8949f1f1c0>"
      ]
     },
     "execution_count": 91,
     "metadata": {},
     "output_type": "execute_result"
    },
    {
     "data": {
      "image/png": "[encoded data removed]",
      "text/plain": [
       "<Figure size 457.5x360 with 1 Axes>"
      ]
     },
     "metadata": {
      "needs_background": "light"
     },
     "output_type": "display_data"
    }
   ],
   "source": [
    "sns.lmplot(x='Earthquake Magnitude', y='Tsunami Intensity', hue='tsunami_category', data = data)"
   ]
  },
  {
   "cell_type": "code",
   "execution_count": 92,
   "id": "0dae7ecb-dc5f-4174-8271-04d0cee927fd",
   "metadata": {},
   "outputs": [
    {
     "data": {
      "image/png": "[encoded data removed]",
      "text/plain": [
       "<Figure size 432x288 with 1 Axes>"
      ]
     },
     "metadata": {
      "needs_background": "light"
     },
     "output_type": "display_data"
    }
   ],
   "source": [
    "plt.hist(data['tsunami_category'], color='b')\n",
    "plt.title('Plot_Intensity (M=1 , B=0)')\n",
    "plt.show()\n",
    "\n",
    "#gunakan teknik SMOTE "
   ]
  },
  {
   "cell_type": "markdown",
   "id": "998a919c-d135-462e-965c-887d95ebd92e",
   "metadata": {},
   "source": [
    "### Split Data ###"
   ]
  },
  {
   "cell_type": "code",
   "execution_count": 93,
   "id": "06bfe3cf-8a78-48e5-810f-a194da5d5ef9",
   "metadata": {},
   "outputs": [],
   "source": [
    "X = data.drop(['tsunami_category'],axis=1)\n",
    "Y = data['tsunami_category']"
   ]
  },
  {
   "cell_type": "code",
   "execution_count": 94,
   "id": "bd55414c-5326-402c-ae0f-349403f5f9e6",
   "metadata": {},
   "outputs": [],
   "source": [
    "from sklearn.model_selection import train_test_split"
   ]
  },
  {
   "cell_type": "code",
   "execution_count": 95,
   "id": "2bc8a611-14c0-4500-87d8-c524787a7c99",
   "metadata": {},
   "outputs": [],
   "source": [
    "X_train,X_test,Y_train,Y_test=train_test_split(X,Y,test_size=0.2,random_state=5)"
   ]
  },
  {
   "cell_type": "code",
   "execution_count": 96,
   "id": "78a4b1fa-c2ff-4382-bee6-e0b000cd0d19",
   "metadata": {},
   "outputs": [],
   "source": [
    "from sklearn.preprocessing import StandardScaler\n",
    "ss=StandardScaler()\n",
    "\n",
    "X_train=ss.fit_transform(X_train)\n",
    "X_test=ss.fit_transform(X_test)"
   ]
  },
  {
   "cell_type": "markdown",
   "id": "2b496c38-f226-43a4-91ef-e02344973132",
   "metadata": {},
   "source": [
    "### Build Model with Random Forest ###"
   ]
  },
  {
   "cell_type": "code",
   "execution_count": 97,
   "id": "4159c3e5-35a2-408b-800b-415bcde2df0c",
   "metadata": {},
   "outputs": [],
   "source": [
    "from sklearn.metrics import confusion_matrix"
   ]
  },
  {
   "cell_type": "code",
   "execution_count": 98,
   "id": "52a85108-d419-4223-94e6-6e2d6c03c97e",
   "metadata": {},
   "outputs": [
    {
     "data": {
      "text/plain": [
       "array([[554,   0],\n",
       "       [  0,  11]])"
      ]
     },
     "execution_count": 98,
     "metadata": {},
     "output_type": "execute_result"
    }
   ],
   "source": [
    "from sklearn.ensemble import RandomForestClassifier, RandomForestRegressor\n",
    "\n",
    "rfc= RandomForestClassifier()\n",
    "model = rfc.fit(X_train, Y_train)\n",
    "prediction = model.predict(X_test)\n",
    "confusion_matrix(Y_test, prediction)"
   ]
  },
  {
   "cell_type": "code",
   "execution_count": 99,
   "id": "71ef7da0-de82-44b8-b8db-5ea9a5a05729",
   "metadata": {},
   "outputs": [],
   "source": [
    "from sklearn.metrics import accuracy_score"
   ]
  },
  {
   "cell_type": "code",
   "execution_count": 100,
   "id": "7e355ade-7c81-4171-80a7-b8553223550b",
   "metadata": {},
   "outputs": [
    {
     "data": {
      "text/plain": [
       "1.0"
      ]
     },
     "execution_count": 100,
     "metadata": {},
     "output_type": "execute_result"
    }
   ],
   "source": [
    "accuracy_score(Y_test, prediction)"
   ]
  },
  {
   "cell_type": "code",
   "execution_count": 101,
   "id": "8b68fcb0-ab96-4521-93d9-49259938ef05",
   "metadata": {},
   "outputs": [],
   "source": [
    "from sklearn.metrics import classification_report"
   ]
  },
  {
   "cell_type": "code",
   "execution_count": 102,
   "id": "b275ab87-d946-4c86-8c46-2da7f2acf647",
   "metadata": {},
   "outputs": [
    {
     "name": "stdout",
     "output_type": "stream",
     "text": [
      "RANDOM FOREST TRAINING RESULT:\n",
      "======================================================\n",
      "Accuracy: 1.0\n",
      "======================================================\n",
      "Classification Report --------------------------------\n",
      "              precision    recall  f1-score   support\n",
      "\n",
      "           0       1.00      1.00      1.00      2239\n",
      "           1       1.00      1.00      1.00        21\n",
      "\n",
      "    accuracy                           1.00      2260\n",
      "   macro avg       1.00      1.00      1.00      2260\n",
      "weighted avg       1.00      1.00      1.00      2260\n",
      "\n",
      "======================================================\n",
      "Confussion Matrix ------------------------------------\n",
      "[[2239    0]\n",
      " [   0   21]]\n",
      "\n",
      "======================================================\n",
      "\n",
      " RANDOM FOREST TESTING RESULT:\n",
      "======================================================\n",
      "Accuracy: 1.0\n",
      "======================================================\n",
      "Classification Report --------------------------------\n",
      "              precision    recall  f1-score   support\n",
      "\n",
      "           0       1.00      1.00      1.00       554\n",
      "           1       1.00      1.00      1.00        11\n",
      "\n",
      "    accuracy                           1.00       565\n",
      "   macro avg       1.00      1.00      1.00       565\n",
      "weighted avg       1.00      1.00      1.00       565\n",
      "\n",
      "======================================================\n",
      "Confussion Matrix ------------------------------------\n",
      "[[554   0]\n",
      " [  0  11]]\n"
     ]
    }
   ],
   "source": [
    "y_train_pred = rfc.predict(X_train)\n",
    "y_test_pred = rfc.predict(X_test)\n",
    "\n",
    "print('RANDOM FOREST TRAINING RESULT:')\n",
    "print('======================================================')\n",
    "print('Accuracy:', rfc.score(X_train, Y_train))\n",
    "print('======================================================')\n",
    "print('Classification Report --------------------------------')\n",
    "print(classification_report(Y_train, y_train_pred))\n",
    "print('======================================================')\n",
    "print('Confussion Matrix ------------------------------------')\n",
    "print(confusion_matrix(Y_train, y_train_pred))\n",
    "\n",
    "print('\\n======================================================')\n",
    "\n",
    "print('\\n RANDOM FOREST TESTING RESULT:')\n",
    "print('======================================================')\n",
    "print('Accuracy:', rfc.score(X_test, Y_test))\n",
    "print('======================================================')\n",
    "print('Classification Report --------------------------------')\n",
    "print(classification_report(Y_test, y_test_pred))\n",
    "print('======================================================')\n",
    "print('Confussion Matrix ------------------------------------')\n",
    "print(confusion_matrix(Y_test, y_test_pred))"
   ]
  },
  {
   "cell_type": "markdown",
   "id": "d892b7aa-647d-4c92-93e9-38d37a71d5c0",
   "metadata": {},
   "source": [
    "### Confussion Matrix ###"
   ]
  },
  {
   "cell_type": "code",
   "execution_count": 103,
   "id": "91d53232-36a3-47e0-90a7-410cdd90da7d",
   "metadata": {},
   "outputs": [
    {
     "data": {
      "text/plain": [
       "<AxesSubplot:>"
      ]
     },
     "execution_count": 103,
     "metadata": {},
     "output_type": "execute_result"
    },
    {
     "data": {
      "image/png": "[encoded data removed]",
      "text/plain": [
       "<Figure size 720x576 with 2 Axes>"
      ]
     },
     "metadata": {
      "needs_background": "light"
     },
     "output_type": "display_data"
    }
   ],
   "source": [
    "y_pred = rfc.predict(X_test)\n",
    "cf_matrix = confusion_matrix(Y_test, y_pred)\n",
    "\n",
    "group_names = [\"True Negative\", \"False Positive\", \"False Negative\", \"True Positive\"]\n",
    "group_counts = [\"{0:0.0f}\".format(value) for value in cf_matrix.flatten()]\n",
    "group_percentages = [\"{0:.2%}\".format(value) for value in cf_matrix.flatten()/np.sum(cf_matrix)]\n",
    "\n",
    "labels = [f\"{v1}\\n{v2}\\n{v3}\" for v1, v2, v3 in zip(group_names,group_counts,group_percentages)]\n",
    "labels = np.asarray(labels).reshape(2,2)\n",
    "\n",
    "plt.figure(figsize=(10, 8))\n",
    "sns.heatmap(cf_matrix, annot=labels, fmt='', cmap='Pastel2_r')"
   ]
  },
  {
   "cell_type": "code",
   "execution_count": 105,
   "id": "26741c61-cdeb-4e06-b3cb-b6cc47d34cfb",
   "metadata": {},
   "outputs": [],
   "source": [
    "import pickle"
   ]
  },
  {
   "cell_type": "code",
   "execution_count": 107,
   "id": "d20d852e-b85d-4eb8-8564-ca606dc53342",
   "metadata": {},
   "outputs": [],
   "source": [
    "# Menentukan nama file untuk menyimpan model\n",
    "filename = 'model1.pskl'\n",
    "\n",
    "# Melakukan export model menggunakan pickle\n",
    "pickle.dump(model, open(filename, 'wb'))\n"
   ]
  },
  {
   "cell_type": "code",
   "execution_count": null,
   "id": "256fd5b3-418d-4fac-831b-de3c89894e86",
   "metadata": {},
   "outputs": [],
   "source": []
  }
 ],
 "metadata": {
  "kernelspec": {
   "display_name": "Python 3 (ipykernel)",
   "language": "python",
   "name": "python3"
  },
  "language_info": {
   "codemirror_mode": {
    "name": "ipython",
    "version": 3
   },
   "file_extension": ".py",
   "mimetype": "text/x-python",
   "name": "python",
   "nbconvert_exporter": "python",
   "pygments_lexer": "ipython3",
   "version": "3.9.7"
  }
 },
 "nbformat": 4,
 "nbformat_minor": 5
}
